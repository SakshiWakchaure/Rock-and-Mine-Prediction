{
  "nbformat": 4,
  "nbformat_minor": 0,
  "metadata": {
    "colab": {
      "name": "Rock vs Mine Prediction .ipynb",
      "provenance": [],
      "collapsed_sections": [],
      "authorship_tag": "ABX9TyMG0BgUXY24eoYWxrfuSdKh",
      "include_colab_link": true
    },
    "kernelspec": {
      "name": "python3",
      "display_name": "Python 3"
    },
    "language_info": {
      "name": "python"
    }
  },
  "cells": [
    {
      "cell_type": "markdown",
      "metadata": {
        "id": "view-in-github",
        "colab_type": "text"
      },
      "source": [
        "<a href=\"https://colab.research.google.com/github/SakshiWakchaure/Rock-and-Mine-Prediction/blob/main/Rock_vs_Mine_Prediction_.ipynb\" target=\"_parent\"><img src=\"https://colab.research.google.com/assets/colab-badge.svg\" alt=\"Open In Colab\"/></a>"
      ]
    },
    {
      "cell_type": "markdown",
      "source": [
        "Importing the libraries"
      ],
      "metadata": {
        "id": "BzOh1e0UHJ9K"
      }
    },
    {
      "cell_type": "code",
      "source": [
        "import numpy as np\n",
        "import pandas as pd\n",
        "from sklearn.model_selection import train_test_split\n",
        "from sklearn.linear_model import LogisticRegression\n",
        "from sklearn.metrics import accuracy_score"
      ],
      "metadata": {
        "id": "LK4geBCvHNqK"
      },
      "execution_count": 4,
      "outputs": []
    },
    {
      "cell_type": "markdown",
      "source": [
        "Data collection and Data Processing"
      ],
      "metadata": {
        "id": "cgTbGaeKIDgG"
      }
    },
    {
      "cell_type": "code",
      "source": [
        "#loading dataset to panda dataframe\n",
        "sonar_data= pd.read_csv('/content/Copy of sonar data.csv', header=None)\n",
        "sonar_data.head()"
      ],
      "metadata": {
        "id": "XndTjRx6IIyx"
      },
      "execution_count": null,
      "outputs": []
    },
    {
      "cell_type": "code",
      "source": [
        "#no of rows and columns\n",
        "sonar_data.shape"
      ],
      "metadata": {
        "id": "xq1E_FuDnjjw"
      },
      "execution_count": null,
      "outputs": []
    },
    {
      "cell_type": "code",
      "source": [
        "sonar_data.describe()"
      ],
      "metadata": {
        "id": "v8YfmM0Xn8Kg"
      },
      "execution_count": null,
      "outputs": []
    },
    {
      "cell_type": "code",
      "source": [
        "sonar_data[60].value_counts()"
      ],
      "metadata": {
        "id": "G6oONPUUoIyK"
      },
      "execution_count": null,
      "outputs": []
    },
    {
      "cell_type": "code",
      "source": [
        "sonar_data.groupby(60).mean()"
      ],
      "metadata": {
        "id": "wk8iKenPqEnM"
      },
      "execution_count": null,
      "outputs": []
    },
    {
      "cell_type": "code",
      "source": [
        "#separating data and column bcz logistic reg dont deal with labels\n",
        "x= sonar_data.drop(columns=60, axis = 1)  # when row then axis is zero\n",
        "y= sonar_data[60]\n",
        "print(x)  #data\n",
        "print(y)  #label r m"
      ],
      "metadata": {
        "id": "HOAJQL_oqVCP"
      },
      "execution_count": null,
      "outputs": []
    },
    {
      "cell_type": "markdown",
      "source": [
        "Training And Test Data"
      ],
      "metadata": {
        "id": "3-0RGH1MsBJZ"
      }
    },
    {
      "cell_type": "code",
      "source": [
        "x_train, x_test, y_train, y_test = train_test_split(x,y,test_size = 0.1)\n",
        "#test_size --> from 100% data 10% data will be to test\n",
        "#stratify --> data is splitted based on either x or y\n",
        "#random_state --> to split the data in particular order\n",
        "\n",
        "print(x.shape, x_train.shape, x_test.shape)"
      ],
      "metadata": {
        "id": "q3yru36kr1Yo"
      },
      "execution_count": null,
      "outputs": []
    },
    {
      "cell_type": "code",
      "source": [
        "print(x_train)\n",
        "print(y_train)"
      ],
      "metadata": {
        "id": "EsR2GBqxw608"
      },
      "execution_count": null,
      "outputs": []
    },
    {
      "cell_type": "markdown",
      "source": [
        "Model Training --> LogisticRegression()"
      ],
      "metadata": {
        "id": "RvmVtg-yxwxw"
      }
    },
    {
      "cell_type": "code",
      "source": [
        "model = LogisticRegression()\n",
        "\n",
        "#training the model with training data\n",
        "model.fit(x_train, y_train)"
      ],
      "metadata": {
        "colab": {
          "base_uri": "https://localhost:8080/"
        },
        "id": "fLH-p34uxIrN",
        "outputId": "d8e8ab2d-43d8-4b78-c06b-ff1af5a64ae3"
      },
      "execution_count": 40,
      "outputs": [
        {
          "output_type": "execute_result",
          "data": {
            "text/plain": [
              "LogisticRegression()"
            ]
          },
          "metadata": {},
          "execution_count": 40
        }
      ]
    },
    {
      "cell_type": "code",
      "source": [
        "#accuracy on training data\n",
        "x_train.prediction = model.predict(x_train)\n",
        "training_data_accuracy = accuracy_score(x_train.prediction, y_train)\n",
        "\n",
        "print('Accuracy on data training : ', training_data_accuracy)"
      ],
      "metadata": {
        "id": "6GO2mPCjyTXy"
      },
      "execution_count": null,
      "outputs": []
    },
    {
      "cell_type": "code",
      "source": [
        "#accuracy on test data\n",
        "x_test.prediction = model.predict(x_test)\n",
        "test_data_accuracy = accuracy_score(x_test.prediction, y_test)\n",
        "\n",
        "print('Accuracy on data training : ', test_data_accuracy)"
      ],
      "metadata": {
        "id": "BWrCJlKNzOVF"
      },
      "execution_count": null,
      "outputs": []
    },
    {
      "cell_type": "markdown",
      "source": [
        "Making a Predictive System"
      ],
      "metadata": {
        "id": "UWCHGH3n0Ans"
      }
    },
    {
      "cell_type": "code",
      "source": [
        "input_data = (0.0286,0.0453,0.0277,0.0174,0.0384,0.0990,0.1201,0.1833,0.2105,0.3039,0.2988,0.4250,0.6343,0.8198,1.0000,0.9988,0.9508,0.9025,0.7234,0.5122,0.2074,0.3985,0.5890,0.2872,0.2043,0.5782,0.5389,0.3750,0.3411,0.5067,0.5580,0.4778,0.3299,0.2198,0.1407,0.2856,0.3807,0.4158,0.4054,0.3296,0.2707,0.2650,0.0723,0.1238,0.1192,0.1089,0.0623,0.0494,0.0264,0.0081,0.0104,0.0045,0.0014,0.0038,0.0013,0.0089,0.0057,0.0027,0.0051,0.0062)\n",
        "\n",
        "#changing the input data in numpy array\n",
        "input_data_as_numpy_array = np.asarray(input_data)\n",
        "\n",
        "#reshapping the numpy array as we are predicting for one instance\n",
        "input_data_reshaped = input_data_as_numpy_array.reshape(1,-1)\n",
        "\n",
        "prediction = model.predict(input_data_reshaped)\n",
        "\n",
        "if (prediction == 'R'):\n",
        "  print('Rock is found')\n",
        "else : \n",
        "  print('Mine is found')\n",
        "\n"
      ],
      "metadata": {
        "id": "5fBL3CPp0H9W"
      },
      "execution_count": null,
      "outputs": []
    }
  ]
}